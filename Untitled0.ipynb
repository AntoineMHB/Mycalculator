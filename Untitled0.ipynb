{
  "nbformat": 4,
  "nbformat_minor": 0,
  "metadata": {
    "colab": {
      "provenance": [],
      "authorship_tag": "ABX9TyM/bslwwKsJ/hSWjjhLylyE",
      "include_colab_link": true
    },
    "kernelspec": {
      "name": "python3",
      "display_name": "Python 3"
    },
    "language_info": {
      "name": "python"
    }
  },
  "cells": [
    {
      "cell_type": "markdown",
      "metadata": {
        "id": "view-in-github",
        "colab_type": "text"
      },
      "source": [
        "<a href=\"https://colab.research.google.com/github/AntoineMHB/Mycalculator/blob/main/Untitled0.ipynb\" target=\"_parent\"><img src=\"https://colab.research.google.com/assets/colab-badge.svg\" alt=\"Open In Colab\"/></a>"
      ]
    },
    {
      "cell_type": "code",
      "execution_count": 93,
      "metadata": {
        "colab": {
          "base_uri": "https://localhost:8080/",
          "height": 1000
        },
        "id": "6fPY2WmWNTsG",
        "outputId": "01dbd1b8-ca8a-42b0-ccd0-5e3e21abef3f"
      },
      "outputs": [
        {
          "output_type": "stream",
          "name": "stdout",
          "text": [
            "Start 'rock-paper-scissors' game \n",
            " Input your hand choice \n",
            " 0 = Rock, 1 = Scissors, 2 = Paper\n",
            "Enter your choice (rock, paper, scissors):paper\n",
            "The computer's choice is: rock\n",
            "You win\n",
            "Do you want to exit the game? Click 0. \n",
            "Click 1 to continue: 1\n",
            "Start 'rock-paper-scissors' game \n",
            " Input your hand choice \n",
            " 0 = Rock, 1 = Scissors, 2 = Paper\n",
            "Enter your choice (rock, paper, scissors):rock\n",
            "The computer's choice is: scissors\n",
            "You win\n",
            "Do you want to exit the game? Click 0. \n",
            "Click 1 to continue: 1\n",
            "Start 'rock-paper-scissors' game \n",
            " Input your hand choice \n",
            " 0 = Rock, 1 = Scissors, 2 = Paper\n",
            "Enter your choice (rock, paper, scissors):paper\n",
            "The computer's choice is: rock\n",
            "You win\n",
            "Do you want to exit the game? Click 0. \n",
            "Click 1 to continue: 1\n",
            "Start 'rock-paper-scissors' game \n",
            " Input your hand choice \n",
            " 0 = Rock, 1 = Scissors, 2 = Paper\n",
            "Enter your choice (rock, paper, scissors):scissors\n",
            "The computer's choice is: paper\n",
            "You win\n",
            "Do you want to exit the game? Click 0. \n",
            "Click 1 to continue: 1\n",
            "Start 'rock-paper-scissors' game \n",
            " Input your hand choice \n",
            " 0 = Rock, 1 = Scissors, 2 = Paper\n",
            "Enter your choice (rock, paper, scissors):scissors\n",
            "The computer's choice is: paper\n",
            "You win\n",
            "Do you want to exit the game? Click 0. \n",
            "Click 1 to continue: 1\n",
            "Start 'rock-paper-scissors' game \n",
            " Input your hand choice \n",
            " 0 = Rock, 1 = Scissors, 2 = Paper\n",
            "Enter your choice (rock, paper, scissors):rock\n",
            "The computer's choice is: scissors\n",
            "You win\n"
          ]
        },
        {
          "output_type": "error",
          "ename": "KeyboardInterrupt",
          "evalue": "ignored",
          "traceback": [
            "\u001b[0;31m---------------------------------------------------------------------------\u001b[0m",
            "\u001b[0;31mKeyboardInterrupt\u001b[0m                         Traceback (most recent call last)",
            "\u001b[0;32m<ipython-input-93-3ffcfad814c4>\u001b[0m in \u001b[0;36m<cell line: 28>\u001b[0;34m()\u001b[0m\n\u001b[1;32m     44\u001b[0m     \u001b[0mprint\u001b[0m\u001b[0;34m(\u001b[0m\u001b[0;34m\"you loose\"\u001b[0m\u001b[0;34m)\u001b[0m\u001b[0;34m\u001b[0m\u001b[0;34m\u001b[0m\u001b[0m\n\u001b[1;32m     45\u001b[0m   \u001b[0mflag\u001b[0m \u001b[0;34m=\u001b[0m \u001b[0;32mNone\u001b[0m\u001b[0;34m\u001b[0m\u001b[0;34m\u001b[0m\u001b[0m\n\u001b[0;32m---> 46\u001b[0;31m   \u001b[0mflag\u001b[0m \u001b[0;34m=\u001b[0m \u001b[0mint\u001b[0m\u001b[0;34m(\u001b[0m\u001b[0minput\u001b[0m\u001b[0;34m(\u001b[0m\u001b[0;34m'Do you want to exit the game? Click 0. \\nClick 1 to continue: '\u001b[0m\u001b[0;34m)\u001b[0m\u001b[0;34m)\u001b[0m\u001b[0;34m\u001b[0m\u001b[0;34m\u001b[0m\u001b[0m\n\u001b[0m\u001b[1;32m     47\u001b[0m   \u001b[0;32mif\u001b[0m \u001b[0mflag\u001b[0m \u001b[0;34m==\u001b[0m \u001b[0;36m0\u001b[0m\u001b[0;34m:\u001b[0m\u001b[0;34m\u001b[0m\u001b[0;34m\u001b[0m\u001b[0m\n\u001b[1;32m     48\u001b[0m     \u001b[0;32mbreak\u001b[0m\u001b[0;34m\u001b[0m\u001b[0;34m\u001b[0m\u001b[0m\n",
            "\u001b[0;32m/usr/local/lib/python3.10/dist-packages/ipykernel/kernelbase.py\u001b[0m in \u001b[0;36mraw_input\u001b[0;34m(self, prompt)\u001b[0m\n\u001b[1;32m    849\u001b[0m                 \u001b[0;34m\"raw_input was called, but this frontend does not support input requests.\"\u001b[0m\u001b[0;34m\u001b[0m\u001b[0;34m\u001b[0m\u001b[0m\n\u001b[1;32m    850\u001b[0m             )\n\u001b[0;32m--> 851\u001b[0;31m         return self._input_request(str(prompt),\n\u001b[0m\u001b[1;32m    852\u001b[0m             \u001b[0mself\u001b[0m\u001b[0;34m.\u001b[0m\u001b[0m_parent_ident\u001b[0m\u001b[0;34m,\u001b[0m\u001b[0;34m\u001b[0m\u001b[0;34m\u001b[0m\u001b[0m\n\u001b[1;32m    853\u001b[0m             \u001b[0mself\u001b[0m\u001b[0;34m.\u001b[0m\u001b[0m_parent_header\u001b[0m\u001b[0;34m,\u001b[0m\u001b[0;34m\u001b[0m\u001b[0;34m\u001b[0m\u001b[0m\n",
            "\u001b[0;32m/usr/local/lib/python3.10/dist-packages/ipykernel/kernelbase.py\u001b[0m in \u001b[0;36m_input_request\u001b[0;34m(self, prompt, ident, parent, password)\u001b[0m\n\u001b[1;32m    893\u001b[0m             \u001b[0;32mexcept\u001b[0m \u001b[0mKeyboardInterrupt\u001b[0m\u001b[0;34m:\u001b[0m\u001b[0;34m\u001b[0m\u001b[0;34m\u001b[0m\u001b[0m\n\u001b[1;32m    894\u001b[0m                 \u001b[0;31m# re-raise KeyboardInterrupt, to truncate traceback\u001b[0m\u001b[0;34m\u001b[0m\u001b[0;34m\u001b[0m\u001b[0m\n\u001b[0;32m--> 895\u001b[0;31m                 \u001b[0;32mraise\u001b[0m \u001b[0mKeyboardInterrupt\u001b[0m\u001b[0;34m(\u001b[0m\u001b[0;34m\"Interrupted by user\"\u001b[0m\u001b[0;34m)\u001b[0m \u001b[0;32mfrom\u001b[0m \u001b[0;32mNone\u001b[0m\u001b[0;34m\u001b[0m\u001b[0;34m\u001b[0m\u001b[0m\n\u001b[0m\u001b[1;32m    896\u001b[0m             \u001b[0;32mexcept\u001b[0m \u001b[0mException\u001b[0m \u001b[0;32mas\u001b[0m \u001b[0me\u001b[0m\u001b[0;34m:\u001b[0m\u001b[0;34m\u001b[0m\u001b[0;34m\u001b[0m\u001b[0m\n\u001b[1;32m    897\u001b[0m                 \u001b[0mself\u001b[0m\u001b[0;34m.\u001b[0m\u001b[0mlog\u001b[0m\u001b[0;34m.\u001b[0m\u001b[0mwarning\u001b[0m\u001b[0;34m(\u001b[0m\u001b[0;34m\"Invalid Message:\"\u001b[0m\u001b[0;34m,\u001b[0m \u001b[0mexc_info\u001b[0m\u001b[0;34m=\u001b[0m\u001b[0;32mTrue\u001b[0m\u001b[0;34m)\u001b[0m\u001b[0;34m\u001b[0m\u001b[0;34m\u001b[0m\u001b[0m\n",
            "\u001b[0;31mKeyboardInterrupt\u001b[0m: Interrupted by user"
          ]
        }
      ],
      "source": [
        "import random\n",
        "\n",
        "computer_hand = None,\n",
        "hand_choice = None\n",
        "options = (\"rock\", \"paper\", \"scissors\")\n",
        "\n",
        "def start_message():\n",
        "  print(\"Start 'rock-paper-scissors' game \\n Input your hand choice \\n 0 = Rock, 1 = Scissors, 2 = Paper\")\n",
        "\n",
        "# start_message ()\n",
        "\n",
        "\n",
        "def get_player_choice():\n",
        "   hand_choice=None\n",
        "   while hand_choice not in options:\n",
        "    hand_choice = input(\"Enter your choice (rock, paper, scissors):\")\n",
        "   return hand_choice\n",
        "\n",
        "# hand_choice = get_player_choice()\n",
        "\n",
        "\n",
        "def get_computer():\n",
        "    computer_hand = random.choice(options)\n",
        "    print(\"The computer's choice is:\", computer_hand)\n",
        "    return computer_hand\n",
        "\n",
        "# computer_hand = get_computer()\n",
        "while 1:\n",
        "  start_message ()\n",
        "  hand_choice = get_player_choice()\n",
        "  computer_hand = get_computer()\n",
        "  if hand_choice == computer_hand:\n",
        "    print(\"It's a tie\")\n",
        "\n",
        "  elif hand_choice == \"rock\" and computer_hand == \"scissors\" :\n",
        "    print(\"You win\")\n",
        "\n",
        "  elif hand_choice == \"paper\" and computer_hand == \"rock\" :\n",
        "    print(\"You win\")\n",
        "\n",
        "  elif hand_choice == \"scissors\" and computer_hand == \"paper\" :\n",
        "    print(\"You win\")\n",
        "  else:\n",
        "    print(\"you loose\")\n",
        "  flag = None\n",
        "  flag = int(input('Do you want to exit the game? Click 0. \\nClick 1 to continue: '))\n",
        "  if flag == 0:\n",
        "    break\n",
        "  else:\n",
        "   continue\n",
        "\n",
        "\n",
        "\n"
      ]
    }
  ]
}